{
 "cells": [
  {
   "cell_type": "code",
   "execution_count": 2,
   "id": "206a5070",
   "metadata": {},
   "outputs": [],
   "source": [
    "import numpy as np\n",
    "from scipy import stats \n",
    "import matplotlib.pyplot as plt\n",
    "import math"
   ]
  },
  {
   "cell_type": "markdown",
   "id": "49ef5e03",
   "metadata": {},
   "source": [
    "### Set 1 - Descriptive Statistics and Probability\n"
   ]
  },
  {
   "cell_type": "markdown",
   "id": "641784af",
   "metadata": {},
   "source": [
    "#### \t1. Look at the data given below. Plot the data, find the outliers and find out  μ,σ,σ^2"
   ]
  },
  {
   "cell_type": "code",
   "execution_count": 22,
   "id": "de887daa",
   "metadata": {},
   "outputs": [],
   "source": [
    "data = [24.23,25.53,25.41,24.14,29.62,28.25,25.81,24.39,40.26,32.95,91.36,25.99,39.42,26.71,35.00]\n"
   ]
  },
  {
   "cell_type": "code",
   "execution_count": 38,
   "id": "9f84e71d",
   "metadata": {},
   "outputs": [
    {
     "data": {
      "text/plain": [
       "Text(0.5, 0, 'data')"
      ]
     },
     "execution_count": 38,
     "metadata": {},
     "output_type": "execute_result"
    },
    {
     "data": {
      "image/png": "[encoded data removed]",
      "text/plain": [
       "<Figure size 432x288 with 1 Axes>"
      ]
     },
     "metadata": {
      "needs_background": "light"
     },
     "output_type": "display_data"
    }
   ],
   "source": [
    "plt.boxplot(data)\n",
    "plt.xlabel(\"data\")"
   ]
  },
  {
   "cell_type": "code",
   "execution_count": 33,
   "id": "c510389e",
   "metadata": {},
   "outputs": [
    {
     "name": "stdout",
     "output_type": "stream",
     "text": [
      "μ =  33.27133333333333  σ =  4.04608608299143  σ^2 =  16.370812590976932\n"
     ]
    }
   ],
   "source": [
    "print(\"μ = \",np.mean(data),\" σ = \",math.sqrt(np.std(data)),\" σ^2 = \", np.std(data))"
   ]
  },
  {
   "cell_type": "markdown",
   "id": "094982e9",
   "metadata": {},
   "source": [
    "### Set 2 - Normal distribution, Functions of Random Variables"
   ]
  },
  {
   "cell_type": "markdown",
   "id": "bb214ce0",
   "metadata": {},
   "source": [
    "#### 1. The time required for servicing transmissions is normally distributed with  = 45 minutes and  = 8 minutes. The service manager plans to have work begin on the transmission of a customer’s car 10 minutes after the car is dropped off and the customer is told that the car will be ready within 1 hour from drop-off. What is the probability that the service manager cannot meet his commitment? "
   ]
  },
  {
   "cell_type": "code",
   "execution_count": 86,
   "id": "42c21e5a",
   "metadata": {},
   "outputs": [
    {
     "data": {
      "text/plain": [
       "0.26598552904870054"
      ]
     },
     "execution_count": 86,
     "metadata": {},
     "output_type": "execute_result"
    }
   ],
   "source": [
    "1 - stats.norm.cdf(0.625) # z = (50 - 45) / 8"
   ]
  },
  {
   "cell_type": "markdown",
   "id": "e1bd8630",
   "metadata": {},
   "source": [
    "#### 2.\tThe current age (in years) of 400 clerical employees at an insurance claims processing center is normally distributed with mean  = 38 and Standard deviation  =6. For each statement below, please specify True/False. If false, briefly explain why.\n",
    "A.\tMore employees at the processing center are older than 44 than between 38 and 44.\n",
    "\n",
    "B.\tA training program for employees under the age of 30 at the center would be expected to attract about 36 employees.\n"
   ]
  },
  {
   "cell_type": "code",
   "execution_count": 84,
   "id": "cea24f8b",
   "metadata": {},
   "outputs": [
    {
     "data": {
      "text/plain": [
       "0.8413447460685429"
      ]
     },
     "execution_count": 84,
     "metadata": {},
     "output_type": "execute_result"
    }
   ],
   "source": [
    "stats.norm.cdf(1) # z = (44 - 38) / 6 (employee age less than 44 = 84.13%)"
   ]
  },
  {
   "cell_type": "code",
   "execution_count": 87,
   "id": "daa33b34",
   "metadata": {},
   "outputs": [
    {
     "data": {
      "text/plain": [
       "0.15865525393145707"
      ]
     },
     "execution_count": 87,
     "metadata": {},
     "output_type": "execute_result"
    }
   ],
   "source": [
    "1 - stats.norm.cdf(1) # (employee age less than 44 = 15.86%)"
   ]
  },
  {
   "cell_type": "code",
   "execution_count": 88,
   "id": "3db2d480",
   "metadata": {},
   "outputs": [],
   "source": [
    "#employee age between 38 and 44 = 84.13% - 50% = 34.13%. hence statement a is false"
   ]
  },
  {
   "cell_type": "code",
   "execution_count": 91,
   "id": "fe3f60d7",
   "metadata": {},
   "outputs": [
    {
     "data": {
      "text/plain": [
       "0.09126590190044165"
      ]
     },
     "execution_count": 91,
     "metadata": {},
     "output_type": "execute_result"
    }
   ],
   "source": [
    "stats.norm.cdf(-1.333) # z = (30 - 38)/6 (employee age less than 30 = 9.12%)"
   ]
  },
  {
   "cell_type": "code",
   "execution_count": 93,
   "id": "9a033552",
   "metadata": {},
   "outputs": [],
   "source": [
    "#total employees in the training under 30 = 9.12% of 400 = 36.48 \n",
    "#hence the statement b is true"
   ]
  },
  {
   "cell_type": "markdown",
   "id": "7395748f",
   "metadata": {},
   "source": [
    "#### 5.\tConsider a company that has two different divisions. The annual profits from the two divisions are independent and have distributions Profit1 ~ N(5, 3^2) and Profit2 ~ N(7, 4^2) respectively. Both the profits are in dollars (Million). \n",
    "Answer the following questions about the total profit of the company in Rupees. Assume that $1 = Rs. 45\n",
    "\n",
    "A.\tSpecify a Rupee range (centered on the mean) such that it contains 95% probability for the annual profit of the company.\n",
    "\n",
    "B.\tSpecify the 5th percentile of profit (in Rupees) for the company\n",
    "\n",
    "C.\tWhich of the two divisions has a larger probability of making a loss in a given year?\n",
    "\n"
   ]
  },
  {
   "cell_type": "code",
   "execution_count": 117,
   "id": "fd9990f8",
   "metadata": {},
   "outputs": [
    {
     "name": "stdout",
     "output_type": "stream",
     "text": [
      "Mean: 540\n",
      "std_deviation: 225.0\n"
     ]
    }
   ],
   "source": [
    "mean = (5 + 7) * 45\n",
    "std_deviation = math.sqrt(9+16) * 45\n",
    "print(\"Mean:\", mean)\n",
    "print(\"std_deviation:\",std_deviation)"
   ]
  },
  {
   "cell_type": "code",
   "execution_count": 118,
   "id": "97c2c5b8",
   "metadata": {},
   "outputs": [
    {
     "data": {
      "text/plain": [
       "(99.00810347848784, 980.9918965215122)"
      ]
     },
     "execution_count": 118,
     "metadata": {},
     "output_type": "execute_result"
    }
   ],
   "source": [
    "stats.norm.interval(0.95, loc = 540, scale =225) #Interval for 95% of profit"
   ]
  },
  {
   "cell_type": "code",
   "execution_count": 127,
   "id": "0677592a",
   "metadata": {},
   "outputs": [
    {
     "data": {
      "text/plain": [
       "169.875"
      ]
     },
     "execution_count": 127,
     "metadata": {},
     "output_type": "execute_result"
    }
   ],
   "source": [
    "X = (225*(-1.645)) + 540# z value for 5th percentile = -1.645\n",
    "X"
   ]
  },
  {
   "cell_type": "code",
   "execution_count": 131,
   "id": "6242e109",
   "metadata": {},
   "outputs": [
    {
     "data": {
      "text/plain": [
       "0.0477903522728147"
      ]
     },
     "execution_count": 131,
     "metadata": {},
     "output_type": "execute_result"
    }
   ],
   "source": [
    "stats.norm.cdf(0,5,3) #probability of division 1 making a loss"
   ]
  },
  {
   "cell_type": "code",
   "execution_count": 130,
   "id": "556d228f",
   "metadata": {},
   "outputs": [
    {
     "data": {
      "text/plain": [
       "0.040059156863817086"
      ]
     },
     "execution_count": 130,
     "metadata": {},
     "output_type": "execute_result"
    }
   ],
   "source": [
    "stats.norm.cdf(0,7,4) #probability of division 2 making a loss"
   ]
  },
  {
   "cell_type": "markdown",
   "id": "07c8db2c",
   "metadata": {},
   "source": [
    "### Set 3 - Sampling Distributions and Central Limit Theorem"
   ]
  },
  {
   "cell_type": "markdown",
   "id": "5707bbc0",
   "metadata": {},
   "source": [
    "#### 3.\tAuditors at a small community bank randomly sample 100 withdrawal transactions made during the week at an ATM machine located near the bank’s main branch. Over the past 2 years, the average withdrawal amount has been $50 with a standard deviation of $40. Since audit investigations are typically expensive, the auditors decide to not initiate further investigations if the mean transaction amount of the sample is between $45 and $55. What is the probability that in any given week, there will be an investigation?"
   ]
  },
  {
   "cell_type": "code",
   "execution_count": 35,
   "id": "ffd5a58c",
   "metadata": {},
   "outputs": [
    {
     "data": {
      "text/plain": [
       "1.25"
      ]
     },
     "execution_count": 35,
     "metadata": {},
     "output_type": "execute_result"
    }
   ],
   "source": [
    "z = (55-50) * 10 /40 \n",
    "z"
   ]
  },
  {
   "cell_type": "code",
   "execution_count": 36,
   "id": "c4ec7568",
   "metadata": {},
   "outputs": [
    {
     "data": {
      "text/plain": [
       "0.7887004526662893"
      ]
     },
     "execution_count": 36,
     "metadata": {},
     "output_type": "execute_result"
    }
   ],
   "source": [
    "stats.norm.cdf(1.25) - stats.norm.cdf(-1.25) #P(45<x<55)"
   ]
  },
  {
   "cell_type": "code",
   "execution_count": 37,
   "id": "2fff605e",
   "metadata": {},
   "outputs": [
    {
     "data": {
      "text/plain": [
       "0.21130000000000004"
      ]
     },
     "execution_count": 37,
     "metadata": {},
     "output_type": "execute_result"
    }
   ],
   "source": [
    "# For Investigation 1-P(45<X<55)\n",
    "1-0.7887"
   ]
  },
  {
   "cell_type": "markdown",
   "id": "7eb7d284",
   "metadata": {},
   "source": [
    "#### 4.\tThe auditors from the above example would like to maintain the probability of investigation to 5%. Which of the following represents the minimum number transactions that they should sample if they do not want to change the thresholds of 45 and 55? Assume that the sample statistics remain unchanged."
   ]
  },
  {
   "cell_type": "code",
   "execution_count": 40,
   "id": "0af39430",
   "metadata": {},
   "outputs": [
    {
     "data": {
      "text/plain": [
       "-1.6448536269514729"
      ]
     },
     "execution_count": 40,
     "metadata": {},
     "output_type": "execute_result"
    }
   ],
   "source": [
    "stats.norm.ppf(0.05)"
   ]
  },
  {
   "cell_type": "code",
   "execution_count": 44,
   "id": "4ed2f1a3",
   "metadata": {},
   "outputs": [
    {
     "data": {
      "text/plain": [
       "245.86240000000004"
      ]
     },
     "execution_count": 44,
     "metadata": {},
     "output_type": "execute_result"
    }
   ],
   "source": [
    "n = math.pow(((1.960*40) / (55 - 50)),2)\n",
    "n"
   ]
  },
  {
   "cell_type": "code",
   "execution_count": null,
   "id": "27c4a982",
   "metadata": {},
   "outputs": [],
   "source": []
  }
 ],
 "metadata": {
  "kernelspec": {
   "display_name": "Python 3 (ipykernel)",
   "language": "python",
   "name": "python3"
  },
  "language_info": {
   "codemirror_mode": {
    "name": "ipython",
    "version": 3
   },
   "file_extension": ".py",
   "mimetype": "text/x-python",
   "name": "python",
   "nbconvert_exporter": "python",
   "pygments_lexer": "ipython3",
   "version": "3.9.7"
  }
 },
 "nbformat": 4,
 "nbformat_minor": 5
}
