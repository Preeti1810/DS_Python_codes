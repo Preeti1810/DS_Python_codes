{
 "cells": [
  {
   "cell_type": "code",
   "execution_count": 1,
   "id": "48443e03",
   "metadata": {},
   "outputs": [],
   "source": [
    "import numpy as np\n",
    "import pandas as pd\n",
    "from scipy import stats\n",
    "import statsmodels.api as sm\n",
    "from scipy.stats import chi2_contingency\n",
    "import warnings"
   ]
  },
  {
   "cell_type": "code",
   "execution_count": 2,
   "id": "99980ed9",
   "metadata": {},
   "outputs": [],
   "source": [
    "warnings.filterwarnings(\"ignore\")"
   ]
  },
  {
   "cell_type": "markdown",
   "id": "8c563962",
   "metadata": {},
   "source": [
    "#### A F&B manager wants to determine whether there is any significant difference in the diameter of the cutlet between two units. A randomly selected sample of cutlets was collected from both units and measured? Analyze the data and draw inferences at 5% significance level. Please state the assumptions and tests that you carried out to check validity of the assumptions.\n",
    "\n"
   ]
  },
  {
   "cell_type": "code",
   "execution_count": 3,
   "id": "6c1eff4c",
   "metadata": {},
   "outputs": [],
   "source": [
    "cutlets = pd.read_csv(\"C:/Users/preet/OneDrive/Desktop/ExcelR/Data Science/Assignment/Hypothesis Testing/Cutlets.csv\")"
   ]
  },
  {
   "cell_type": "code",
   "execution_count": 4,
   "id": "c5041cce",
   "metadata": {},
   "outputs": [
    {
     "data": {
      "text/html": [
       "<div>\n",
       "<style scoped>\n",
       "    .dataframe tbody tr th:only-of-type {\n",
       "        vertical-align: middle;\n",
       "    }\n",
       "\n",
       "    .dataframe tbody tr th {\n",
       "        vertical-align: top;\n",
       "    }\n",
       "\n",
       "    .dataframe thead th {\n",
       "        text-align: right;\n",
       "    }\n",
       "</style>\n",
       "<table border=\"1\" class=\"dataframe\">\n",
       "  <thead>\n",
       "    <tr style=\"text-align: right;\">\n",
       "      <th></th>\n",
       "      <th>Unit A</th>\n",
       "      <th>Unit B</th>\n",
       "    </tr>\n",
       "  </thead>\n",
       "  <tbody>\n",
       "    <tr>\n",
       "      <th>0</th>\n",
       "      <td>6.8090</td>\n",
       "      <td>6.7703</td>\n",
       "    </tr>\n",
       "    <tr>\n",
       "      <th>1</th>\n",
       "      <td>6.4376</td>\n",
       "      <td>7.5093</td>\n",
       "    </tr>\n",
       "    <tr>\n",
       "      <th>2</th>\n",
       "      <td>6.9157</td>\n",
       "      <td>6.7300</td>\n",
       "    </tr>\n",
       "    <tr>\n",
       "      <th>3</th>\n",
       "      <td>7.3012</td>\n",
       "      <td>6.7878</td>\n",
       "    </tr>\n",
       "    <tr>\n",
       "      <th>4</th>\n",
       "      <td>7.4488</td>\n",
       "      <td>7.1522</td>\n",
       "    </tr>\n",
       "  </tbody>\n",
       "</table>\n",
       "</div>"
      ],
      "text/plain": [
       "   Unit A  Unit B\n",
       "0  6.8090  6.7703\n",
       "1  6.4376  7.5093\n",
       "2  6.9157  6.7300\n",
       "3  7.3012  6.7878\n",
       "4  7.4488  7.1522"
      ]
     },
     "execution_count": 4,
     "metadata": {},
     "output_type": "execute_result"
    }
   ],
   "source": [
    "cutlets.head(5)"
   ]
  },
  {
   "cell_type": "code",
   "execution_count": 5,
   "id": "88e95bbb",
   "metadata": {},
   "outputs": [],
   "source": [
    "# Ho: mean1 = mean2, there is no difference\n",
    "# Ha: mean1 =! mean2, there is a difference\n",
    "# Finding required parameters\n",
    "UnitA = cutlets[\"Unit A\"]\n",
    "UnitB = cutlets[\"Unit B\"]"
   ]
  },
  {
   "cell_type": "code",
   "execution_count": 6,
   "id": "e50ced88",
   "metadata": {},
   "outputs": [],
   "source": [
    "n = len(cutlets) # using t test since n>30"
   ]
  },
  {
   "cell_type": "code",
   "execution_count": 7,
   "id": "476ab1af",
   "metadata": {},
   "outputs": [
    {
     "data": {
      "text/plain": [
       "Ttest_indResult(statistic=0.7228688704678063, pvalue=0.4722394724599501)"
      ]
     },
     "execution_count": 7,
     "metadata": {},
     "output_type": "execute_result"
    }
   ],
   "source": [
    "stats.ttest_ind(UnitA,UnitB)"
   ]
  },
  {
   "cell_type": "code",
   "execution_count": 8,
   "id": "c791195c",
   "metadata": {},
   "outputs": [],
   "source": [
    "# Since p value > 0.05, we accept null hypothesis\n",
    "# Hence, there isn't significant difference between the diameters of two units"
   ]
  },
  {
   "cell_type": "markdown",
   "id": "300619c5",
   "metadata": {},
   "source": [
    "####    A hospital wants to determine whether there is any difference in the average Turn Around Time (TAT) of reports of the laboratories on their preferred list. They collected a random sample and recorded TAT for reports of 4 laboratories. TAT is defined as sample collected to report dispatch.\n",
    "   \n",
    "  Analyze the data and determine whether there is any difference in average TAT among the different laboratories at 5% significance level.\n"
   ]
  },
  {
   "cell_type": "code",
   "execution_count": 9,
   "id": "915676d0",
   "metadata": {},
   "outputs": [],
   "source": [
    "LabTAT = pd.read_csv(\"C:/Users/preet/OneDrive/Desktop/ExcelR/Data Science/Assignment/Hypothesis Testing/LabTAT.csv\")"
   ]
  },
  {
   "cell_type": "code",
   "execution_count": 10,
   "id": "6f1d365e",
   "metadata": {},
   "outputs": [
    {
     "data": {
      "text/html": [
       "<div>\n",
       "<style scoped>\n",
       "    .dataframe tbody tr th:only-of-type {\n",
       "        vertical-align: middle;\n",
       "    }\n",
       "\n",
       "    .dataframe tbody tr th {\n",
       "        vertical-align: top;\n",
       "    }\n",
       "\n",
       "    .dataframe thead th {\n",
       "        text-align: right;\n",
       "    }\n",
       "</style>\n",
       "<table border=\"1\" class=\"dataframe\">\n",
       "  <thead>\n",
       "    <tr style=\"text-align: right;\">\n",
       "      <th></th>\n",
       "      <th>Laboratory 1</th>\n",
       "      <th>Laboratory 2</th>\n",
       "      <th>Laboratory 3</th>\n",
       "      <th>Laboratory 4</th>\n",
       "    </tr>\n",
       "  </thead>\n",
       "  <tbody>\n",
       "    <tr>\n",
       "      <th>0</th>\n",
       "      <td>185.35</td>\n",
       "      <td>165.53</td>\n",
       "      <td>176.70</td>\n",
       "      <td>166.13</td>\n",
       "    </tr>\n",
       "    <tr>\n",
       "      <th>1</th>\n",
       "      <td>170.49</td>\n",
       "      <td>185.91</td>\n",
       "      <td>198.45</td>\n",
       "      <td>160.79</td>\n",
       "    </tr>\n",
       "    <tr>\n",
       "      <th>2</th>\n",
       "      <td>192.77</td>\n",
       "      <td>194.92</td>\n",
       "      <td>201.23</td>\n",
       "      <td>185.18</td>\n",
       "    </tr>\n",
       "    <tr>\n",
       "      <th>3</th>\n",
       "      <td>177.33</td>\n",
       "      <td>183.00</td>\n",
       "      <td>199.61</td>\n",
       "      <td>176.42</td>\n",
       "    </tr>\n",
       "    <tr>\n",
       "      <th>4</th>\n",
       "      <td>193.41</td>\n",
       "      <td>169.57</td>\n",
       "      <td>204.63</td>\n",
       "      <td>152.60</td>\n",
       "    </tr>\n",
       "  </tbody>\n",
       "</table>\n",
       "</div>"
      ],
      "text/plain": [
       "   Laboratory 1  Laboratory 2  Laboratory 3  Laboratory 4\n",
       "0        185.35        165.53        176.70        166.13\n",
       "1        170.49        185.91        198.45        160.79\n",
       "2        192.77        194.92        201.23        185.18\n",
       "3        177.33        183.00        199.61        176.42\n",
       "4        193.41        169.57        204.63        152.60"
      ]
     },
     "execution_count": 10,
     "metadata": {},
     "output_type": "execute_result"
    }
   ],
   "source": [
    "\n",
    "LabTAT.head(5)"
   ]
  },
  {
   "cell_type": "code",
   "execution_count": 11,
   "id": "f136f5d4",
   "metadata": {},
   "outputs": [
    {
     "data": {
      "text/plain": [
       "F_onewayResult(statistic=118.70421654401437, pvalue=2.1156708949992414e-57)"
      ]
     },
     "execution_count": 11,
     "metadata": {},
     "output_type": "execute_result"
    }
   ],
   "source": [
    "# Ho = no difference\n",
    "# Ha = there is a difference\n",
    "# 4 variance hence using Anova for calculating p-value\n",
    "stats.f_oneway(LabTAT.iloc[:,0], LabTAT.iloc[:,1], LabTAT.iloc[:,2], LabTAT.iloc[:,3])"
   ]
  },
  {
   "cell_type": "code",
   "execution_count": 12,
   "id": "9c3300e9",
   "metadata": {},
   "outputs": [],
   "source": [
    "# p-value <0.05, therefore reject Ho\n",
    "# Hence, there is a difference in average turn around time (TAT) of reports of the laboratories."
   ]
  },
  {
   "cell_type": "markdown",
   "id": "d05e3785",
   "metadata": {},
   "source": [
    "#### Sales of products in four different regions is tabulated for males and females. Find if male-female buyer rations are similar across regions.\n",
    "1. Check p-value\n",
    "2. If p-Value < alpha, we reject Null Hypothesis\n",
    "Ho: All proportions are equal\n",
    "Ha: Not all proportions are equal\n"
   ]
  },
  {
   "cell_type": "code",
   "execution_count": 13,
   "id": "83c370fd",
   "metadata": {},
   "outputs": [],
   "source": [
    "BuyerRatio = pd.read_csv(\"C:/Users/preet/OneDrive/Desktop/ExcelR/Data Science/Assignment/Hypothesis Testing/BuyerRatio.csv\")"
   ]
  },
  {
   "cell_type": "code",
   "execution_count": 14,
   "id": "156d0a10",
   "metadata": {},
   "outputs": [
    {
     "data": {
      "text/html": [
       "<div>\n",
       "<style scoped>\n",
       "    .dataframe tbody tr th:only-of-type {\n",
       "        vertical-align: middle;\n",
       "    }\n",
       "\n",
       "    .dataframe tbody tr th {\n",
       "        vertical-align: top;\n",
       "    }\n",
       "\n",
       "    .dataframe thead th {\n",
       "        text-align: right;\n",
       "    }\n",
       "</style>\n",
       "<table border=\"1\" class=\"dataframe\">\n",
       "  <thead>\n",
       "    <tr style=\"text-align: right;\">\n",
       "      <th></th>\n",
       "      <th>Observed Values</th>\n",
       "      <th>East</th>\n",
       "      <th>West</th>\n",
       "      <th>North</th>\n",
       "      <th>South</th>\n",
       "    </tr>\n",
       "  </thead>\n",
       "  <tbody>\n",
       "    <tr>\n",
       "      <th>0</th>\n",
       "      <td>Males</td>\n",
       "      <td>50</td>\n",
       "      <td>142</td>\n",
       "      <td>131</td>\n",
       "      <td>70</td>\n",
       "    </tr>\n",
       "    <tr>\n",
       "      <th>1</th>\n",
       "      <td>Females</td>\n",
       "      <td>435</td>\n",
       "      <td>1523</td>\n",
       "      <td>1356</td>\n",
       "      <td>750</td>\n",
       "    </tr>\n",
       "  </tbody>\n",
       "</table>\n",
       "</div>"
      ],
      "text/plain": [
       "  Observed Values  East  West  North  South\n",
       "0           Males    50   142    131     70\n",
       "1         Females   435  1523   1356    750"
      ]
     },
     "execution_count": 14,
     "metadata": {},
     "output_type": "execute_result"
    }
   ],
   "source": [
    "BuyerRatio.head()"
   ]
  },
  {
   "cell_type": "code",
   "execution_count": 15,
   "id": "d3663ee2",
   "metadata": {},
   "outputs": [],
   "source": [
    "# 4 variables hence use Anova to find p-value\n",
    "East = BuyerRatio.iloc[:,1]\n",
    "West = BuyerRatio.iloc[:,2]\n",
    "North = BuyerRatio.iloc[:,3]\n",
    "South = BuyerRatio.iloc[:,4]"
   ]
  },
  {
   "cell_type": "code",
   "execution_count": 16,
   "id": "5bb34f32",
   "metadata": {},
   "outputs": [
    {
     "data": {
      "text/plain": [
       "F_onewayResult(statistic=0.3068565327605033, pvalue=0.8204060154887464)"
      ]
     },
     "execution_count": 16,
     "metadata": {},
     "output_type": "execute_result"
    }
   ],
   "source": [
    "stats.f_oneway(East,West,North,South)"
   ]
  },
  {
   "cell_type": "code",
   "execution_count": 17,
   "id": "7cc8a058",
   "metadata": {},
   "outputs": [],
   "source": [
    "# assuming alpha value = 0.05 \n",
    "# since p value>alpha, we accept null hypothesis, Ho\n",
    "# Hence, all proportions are equal "
   ]
  },
  {
   "cell_type": "markdown",
   "id": "70fd5127",
   "metadata": {},
   "source": [
    "#### TeleCall uses 4 centers around the globe to process customer order forms. They audit a certain %  of the customer order forms. Any error in order form renders it defective and has to be reworked before processing.  The manager wants to check whether the defective %  varies by centre. Please analyze the data at 5% significance level and help the manager draw appropriate inferences.\n"
   ]
  },
  {
   "cell_type": "code",
   "execution_count": 18,
   "id": "777c581a",
   "metadata": {},
   "outputs": [],
   "source": [
    "CustomerOrderForm = pd.read_csv(\"C:/Users/preet/OneDrive/Desktop/ExcelR/Data Science/Assignment/Hypothesis Testing/Costomer+OrderForm.csv\")"
   ]
  },
  {
   "cell_type": "code",
   "execution_count": 19,
   "id": "459dcbb6",
   "metadata": {},
   "outputs": [
    {
     "data": {
      "text/html": [
       "<div>\n",
       "<style scoped>\n",
       "    .dataframe tbody tr th:only-of-type {\n",
       "        vertical-align: middle;\n",
       "    }\n",
       "\n",
       "    .dataframe tbody tr th {\n",
       "        vertical-align: top;\n",
       "    }\n",
       "\n",
       "    .dataframe thead th {\n",
       "        text-align: right;\n",
       "    }\n",
       "</style>\n",
       "<table border=\"1\" class=\"dataframe\">\n",
       "  <thead>\n",
       "    <tr style=\"text-align: right;\">\n",
       "      <th></th>\n",
       "      <th>Phillippines</th>\n",
       "      <th>Indonesia</th>\n",
       "      <th>Malta</th>\n",
       "      <th>India</th>\n",
       "    </tr>\n",
       "  </thead>\n",
       "  <tbody>\n",
       "    <tr>\n",
       "      <th>0</th>\n",
       "      <td>Error Free</td>\n",
       "      <td>Error Free</td>\n",
       "      <td>Defective</td>\n",
       "      <td>Error Free</td>\n",
       "    </tr>\n",
       "    <tr>\n",
       "      <th>1</th>\n",
       "      <td>Error Free</td>\n",
       "      <td>Error Free</td>\n",
       "      <td>Error Free</td>\n",
       "      <td>Defective</td>\n",
       "    </tr>\n",
       "    <tr>\n",
       "      <th>2</th>\n",
       "      <td>Error Free</td>\n",
       "      <td>Defective</td>\n",
       "      <td>Defective</td>\n",
       "      <td>Error Free</td>\n",
       "    </tr>\n",
       "    <tr>\n",
       "      <th>3</th>\n",
       "      <td>Error Free</td>\n",
       "      <td>Error Free</td>\n",
       "      <td>Error Free</td>\n",
       "      <td>Error Free</td>\n",
       "    </tr>\n",
       "    <tr>\n",
       "      <th>4</th>\n",
       "      <td>Error Free</td>\n",
       "      <td>Error Free</td>\n",
       "      <td>Defective</td>\n",
       "      <td>Error Free</td>\n",
       "    </tr>\n",
       "  </tbody>\n",
       "</table>\n",
       "</div>"
      ],
      "text/plain": [
       "  Phillippines   Indonesia       Malta       India\n",
       "0   Error Free  Error Free   Defective  Error Free\n",
       "1   Error Free  Error Free  Error Free   Defective\n",
       "2   Error Free   Defective   Defective  Error Free\n",
       "3   Error Free  Error Free  Error Free  Error Free\n",
       "4   Error Free  Error Free   Defective  Error Free"
      ]
     },
     "execution_count": 19,
     "metadata": {},
     "output_type": "execute_result"
    }
   ],
   "source": [
    "CustomerOrderForm.head()"
   ]
  },
  {
   "cell_type": "code",
   "execution_count": 20,
   "id": "fc6743ff",
   "metadata": {},
   "outputs": [],
   "source": [
    "CustomerOrderForm = CustomerOrderForm.replace({\"Error Free\":\"Errorfree\"})"
   ]
  },
  {
   "cell_type": "code",
   "execution_count": 21,
   "id": "a20a2ab0",
   "metadata": {},
   "outputs": [
    {
     "data": {
      "text/html": [
       "<div>\n",
       "<style scoped>\n",
       "    .dataframe tbody tr th:only-of-type {\n",
       "        vertical-align: middle;\n",
       "    }\n",
       "\n",
       "    .dataframe tbody tr th {\n",
       "        vertical-align: top;\n",
       "    }\n",
       "\n",
       "    .dataframe thead th {\n",
       "        text-align: right;\n",
       "    }\n",
       "</style>\n",
       "<table border=\"1\" class=\"dataframe\">\n",
       "  <thead>\n",
       "    <tr style=\"text-align: right;\">\n",
       "      <th></th>\n",
       "      <th>Phillippines</th>\n",
       "      <th>Indonesia</th>\n",
       "      <th>Malta</th>\n",
       "      <th>India</th>\n",
       "    </tr>\n",
       "  </thead>\n",
       "  <tbody>\n",
       "    <tr>\n",
       "      <th>0</th>\n",
       "      <td>Errorfree</td>\n",
       "      <td>Errorfree</td>\n",
       "      <td>Defective</td>\n",
       "      <td>Errorfree</td>\n",
       "    </tr>\n",
       "    <tr>\n",
       "      <th>1</th>\n",
       "      <td>Errorfree</td>\n",
       "      <td>Errorfree</td>\n",
       "      <td>Errorfree</td>\n",
       "      <td>Defective</td>\n",
       "    </tr>\n",
       "    <tr>\n",
       "      <th>2</th>\n",
       "      <td>Errorfree</td>\n",
       "      <td>Defective</td>\n",
       "      <td>Defective</td>\n",
       "      <td>Errorfree</td>\n",
       "    </tr>\n",
       "    <tr>\n",
       "      <th>3</th>\n",
       "      <td>Errorfree</td>\n",
       "      <td>Errorfree</td>\n",
       "      <td>Errorfree</td>\n",
       "      <td>Errorfree</td>\n",
       "    </tr>\n",
       "    <tr>\n",
       "      <th>4</th>\n",
       "      <td>Errorfree</td>\n",
       "      <td>Errorfree</td>\n",
       "      <td>Defective</td>\n",
       "      <td>Errorfree</td>\n",
       "    </tr>\n",
       "  </tbody>\n",
       "</table>\n",
       "</div>"
      ],
      "text/plain": [
       "  Phillippines  Indonesia      Malta      India\n",
       "0    Errorfree  Errorfree  Defective  Errorfree\n",
       "1    Errorfree  Errorfree  Errorfree  Defective\n",
       "2    Errorfree  Defective  Defective  Errorfree\n",
       "3    Errorfree  Errorfree  Errorfree  Errorfree\n",
       "4    Errorfree  Errorfree  Defective  Errorfree"
      ]
     },
     "execution_count": 21,
     "metadata": {},
     "output_type": "execute_result"
    }
   ],
   "source": [
    "CustomerOrderForm.head()"
   ]
  },
  {
   "cell_type": "code",
   "execution_count": 22,
   "id": "adf1efb6",
   "metadata": {},
   "outputs": [
    {
     "data": {
      "text/plain": [
       "[[271, 267, 269, 280], [29, 33, 31, 20]]"
      ]
     },
     "execution_count": 22,
     "metadata": {},
     "output_type": "execute_result"
    }
   ],
   "source": [
    "# Ho: Customer order form defective % doesn't varies\n",
    "# Ha : Customer order form defective % varies\n",
    "\n",
    "#Calculating total number of defective orders(country wise) and total values in that particular column. \n",
    "\n",
    "obs = [[CustomerOrderForm.Phillippines.value_counts().Errorfree, CustomerOrderForm.Indonesia.value_counts().Errorfree, CustomerOrderForm.Malta.value_counts().Errorfree, CustomerOrderForm.India.value_counts().Errorfree],\n",
    "       [CustomerOrderForm.Phillippines.value_counts().Defective, CustomerOrderForm.Indonesia.value_counts().Defective, CustomerOrderForm.Malta.value_counts().Defective, CustomerOrderForm.India.value_counts().Defective]]\n",
    "obs"
   ]
  },
  {
   "cell_type": "code",
   "execution_count": 23,
   "id": "eb167a81",
   "metadata": {},
   "outputs": [
    {
     "data": {
      "text/plain": [
       "(3.858960685820355,\n",
       " 0.2771020991233135,\n",
       " 3,\n",
       " array([[271.75, 271.75, 271.75, 271.75],\n",
       "        [ 28.25,  28.25,  28.25,  28.25]]))"
      ]
     },
     "execution_count": 23,
     "metadata": {},
     "output_type": "execute_result"
    }
   ],
   "source": [
    "#since 4 categorical variables to be compared, hence by using chi sqaure find p-value\n",
    "\n",
    "chi2_contingency(obs)"
   ]
  },
  {
   "cell_type": "code",
   "execution_count": 24,
   "id": "f8e7639f",
   "metadata": {},
   "outputs": [],
   "source": [
    "# p-value > 0.05, therefore we accept null hypothesis\n",
    "# Hence the Customer order form defective % doesn't varies across the given countries"
   ]
  },
  {
   "cell_type": "code",
   "execution_count": null,
   "id": "bc8aae7a",
   "metadata": {},
   "outputs": [],
   "source": []
  }
 ],
 "metadata": {
  "kernelspec": {
   "display_name": "Python 3 (ipykernel)",
   "language": "python",
   "name": "python3"
  },
  "language_info": {
   "codemirror_mode": {
    "name": "ipython",
    "version": 3
   },
   "file_extension": ".py",
   "mimetype": "text/x-python",
   "name": "python",
   "nbconvert_exporter": "python",
   "pygments_lexer": "ipython3",
   "version": "3.9.7"
  }
 },
 "nbformat": 4,
 "nbformat_minor": 5
}
