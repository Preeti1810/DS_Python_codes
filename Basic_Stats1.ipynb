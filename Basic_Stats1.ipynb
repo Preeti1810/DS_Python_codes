{
 "cells": [
  {
   "cell_type": "code",
   "execution_count": 1,
   "id": "21a1b3f3",
   "metadata": {},
   "outputs": [],
   "source": [
    "import pandas as pd\n",
    "import warnings\n",
    "from scipy import stats\n",
    "import matplotlib.pyplot as plt\n",
    "import seaborn as sns\n",
    "import numpy as np"
   ]
  },
  {
   "cell_type": "code",
   "execution_count": 2,
   "id": "b82ffa3e",
   "metadata": {},
   "outputs": [],
   "source": [
    "warnings.filterwarnings(\"ignore\")"
   ]
  },
  {
   "cell_type": "markdown",
   "id": "f6ec00cd",
   "metadata": {},
   "source": [
    "#### Q7) Calculate Mean, Median, Mode, Variance, Standard Deviation, Range & comment about the values / draw inferences, for the given dataset"
   ]
  },
  {
   "cell_type": "code",
   "execution_count": 3,
   "id": "a8a6a85c",
   "metadata": {},
   "outputs": [],
   "source": [
    "df = pd.read_csv(\"PATH/Q7.csv\")"
   ]
  },
  {
   "cell_type": "code",
   "execution_count": 4,
   "id": "6b14f3d0",
   "metadata": {},
   "outputs": [
    {
     "data": {
      "text/html": [
       "<div>\n",
       "<style scoped>\n",
       "    .dataframe tbody tr th:only-of-type {\n",
       "        vertical-align: middle;\n",
       "    }\n",
       "\n",
       "    .dataframe tbody tr th {\n",
       "        vertical-align: top;\n",
       "    }\n",
       "\n",
       "    .dataframe thead th {\n",
       "        text-align: right;\n",
       "    }\n",
       "</style>\n",
       "<table border=\"1\" class=\"dataframe\">\n",
       "  <thead>\n",
       "    <tr style=\"text-align: right;\">\n",
       "      <th></th>\n",
       "      <th>Points</th>\n",
       "      <th>Score</th>\n",
       "      <th>Weigh</th>\n",
       "    </tr>\n",
       "  </thead>\n",
       "  <tbody>\n",
       "    <tr>\n",
       "      <th>mean</th>\n",
       "      <td>3.596563</td>\n",
       "      <td>3.217250</td>\n",
       "      <td>17.848750</td>\n",
       "    </tr>\n",
       "    <tr>\n",
       "      <th>median</th>\n",
       "      <td>3.695000</td>\n",
       "      <td>3.325000</td>\n",
       "      <td>17.710000</td>\n",
       "    </tr>\n",
       "    <tr>\n",
       "      <th>std</th>\n",
       "      <td>0.534679</td>\n",
       "      <td>0.978457</td>\n",
       "      <td>1.786943</td>\n",
       "    </tr>\n",
       "    <tr>\n",
       "      <th>min</th>\n",
       "      <td>2.760000</td>\n",
       "      <td>1.513000</td>\n",
       "      <td>14.500000</td>\n",
       "    </tr>\n",
       "    <tr>\n",
       "      <th>max</th>\n",
       "      <td>4.930000</td>\n",
       "      <td>5.424000</td>\n",
       "      <td>22.900000</td>\n",
       "    </tr>\n",
       "  </tbody>\n",
       "</table>\n",
       "</div>"
      ],
      "text/plain": [
       "          Points     Score      Weigh\n",
       "mean    3.596563  3.217250  17.848750\n",
       "median  3.695000  3.325000  17.710000\n",
       "std     0.534679  0.978457   1.786943\n",
       "min     2.760000  1.513000  14.500000\n",
       "max     4.930000  5.424000  22.900000"
      ]
     },
     "execution_count": 4,
     "metadata": {},
     "output_type": "execute_result"
    }
   ],
   "source": [
    "df[[\"Points\",\"Score\",\"Weigh\"]].agg([\"mean\",\"median\",\"std\",\"min\",\"max\"])"
   ]
  },
  {
   "cell_type": "code",
   "execution_count": 5,
   "id": "b20a8411",
   "metadata": {},
   "outputs": [
    {
     "data": {
      "text/plain": [
       "Points    0.285881\n",
       "Score     0.957379\n",
       "Weigh     3.193166\n",
       "dtype: float64"
      ]
     },
     "execution_count": 5,
     "metadata": {},
     "output_type": "execute_result"
    }
   ],
   "source": [
    "variance = df.std()*df.std()\n",
    "variance"
   ]
  },
  {
   "cell_type": "code",
   "execution_count": 6,
   "id": "b0c90e51",
   "metadata": {},
   "outputs": [
    {
     "data": {
      "text/plain": [
       "Points    2.170\n",
       "Score     3.911\n",
       "Weigh     8.400\n",
       "dtype: float64"
      ]
     },
     "execution_count": 6,
     "metadata": {},
     "output_type": "execute_result"
    }
   ],
   "source": [
    "range_data = df[[\"Points\",\"Score\",\"Weigh\"]].agg(\"max\") - df[[\"Points\",\"Score\",\"Weigh\"]].agg(\"min\")\n",
    "range_data"
   ]
  },
  {
   "cell_type": "markdown",
   "id": "1f6c3a30",
   "metadata": {},
   "source": [
    "##### Q8) Calculate Expected Value for the problem below\n",
    "The weights (X) of patients at a clinic (in pounds), are\n",
    "108, 110, 123, 134, 135, 145, 167, 187, 199\n",
    "Assume one of the patients is chosen at random. What is the Expected Value of the Weight of that patient?\n"
   ]
  },
  {
   "cell_type": "code",
   "execution_count": 7,
   "id": "f0e027e2",
   "metadata": {},
   "outputs": [],
   "source": [
    "x = [108, 110, 123, 134, 135, 145, 167, 187, 199]"
   ]
  },
  {
   "cell_type": "code",
   "execution_count": 8,
   "id": "44cf7049",
   "metadata": {},
   "outputs": [
    {
     "name": "stdout",
     "output_type": "stream",
     "text": [
      "145.33333333333331\n"
     ]
    }
   ],
   "source": [
    "t = len(x)\n",
    "EV = 0\n",
    "for n in x:\n",
    "    EV = EV + n*(1/9)\n",
    "print(EV)"
   ]
  },
  {
   "cell_type": "markdown",
   "id": "d42ca790",
   "metadata": {},
   "source": [
    "#### Q9) Calculate Skewness, Kurtosis & draw inferences on the following data\n",
    "\n",
    "a. Cars speed and distance \n",
    "b. SP and Weight(WT)\n"
   ]
  },
  {
   "cell_type": "code",
   "execution_count": 9,
   "id": "340820fd",
   "metadata": {},
   "outputs": [],
   "source": [
    "Data1 = pd.read_csv(\"PATH/Q9_a.csv\")\n",
    "Data2 = pd.read_csv(\"PATH/Q9_b.csv\")"
   ]
  },
  {
   "cell_type": "code",
   "execution_count": 10,
   "id": "c5dec9ce",
   "metadata": {},
   "outputs": [
    {
     "name": "stdout",
     "output_type": "stream",
     "text": [
      "speed: -0.11750986144663393 distance: 0.8068949601674216\n"
     ]
    }
   ],
   "source": [
    "Speed_s = stats.skew(Data1.speed, axis = 0, bias = False)\n",
    "Distance_s = stats.skew(Data1.dist, axis = 0, bias = False)\n",
    "print(\"speed:\", Speed_s, \"distance:\",Distance_s)\n"
   ]
  },
  {
   "cell_type": "code",
   "execution_count": 11,
   "id": "597c543f",
   "metadata": {},
   "outputs": [
    {
     "name": "stdout",
     "output_type": "stream",
     "text": [
      "speed: -0.5089944204057613 distance: 0.4050525816795765\n"
     ]
    }
   ],
   "source": [
    "Speed_k = stats.kurtosis(Data1.speed, axis = 0, bias = False)\n",
    "Distance_k = stats.kurtosis(Data1.dist, axis = 0, bias= False)\n",
    "print(\"speed:\", Speed_k, \"distance:\",Distance_k)\n"
   ]
  },
  {
   "cell_type": "code",
   "execution_count": 12,
   "id": "27841f05",
   "metadata": {},
   "outputs": [
    {
     "name": "stdout",
     "output_type": "stream",
     "text": [
      "SP: 1.6114501961773589 Weight: -0.6147533255357768\n"
     ]
    }
   ],
   "source": [
    "SP_s = stats.skew(Data2.SP, axis = 0, bias = False)\n",
    "WT_s = stats.skew(Data2.WT, axis = 0, bias = False)\n",
    "print(\"SP:\", SP_s, \"Weight:\",WT_s)"
   ]
  },
  {
   "cell_type": "code",
   "execution_count": 13,
   "id": "1c12d1c0",
   "metadata": {},
   "outputs": [
    {
     "name": "stdout",
     "output_type": "stream",
     "text": [
      "SP: 2.9773289437871835 Weight: 0.9502914910300317\n"
     ]
    }
   ],
   "source": [
    "SP_k = stats.kurtosis(Data2.SP, axis = 0, bias = False)\n",
    "WT_k = stats.kurtosis(Data2.WT, axis = 0, bias = False)\n",
    "print(\"SP:\", SP_k, \"Weight:\",WT_k)"
   ]
  },
  {
   "cell_type": "code",
   "execution_count": 14,
   "id": "6de6f803",
   "metadata": {},
   "outputs": [
    {
     "data": {
      "text/plain": [
       "<AxesSubplot:xlabel='WT', ylabel='Density'>"
      ]
     },
     "execution_count": 14,
     "metadata": {},
     "output_type": "execute_result"
    },
    {
     "data": {
      "image/png": "[encoded data removed]",
      "text/plain": [
       "<Figure size 432x288 with 4 Axes>"
      ]
     },
     "metadata": {
      "needs_background": "light"
     },
     "output_type": "display_data"
    }
   ],
   "source": [
    "plt.subplot(2,2,1)\n",
    "sns.distplot(Data1.speed)\n",
    "plt.subplot(2,2,2)\n",
    "sns.distplot(Data1.dist)\n",
    "plt.subplot(2,2,3)\n",
    "sns.distplot(Data2.SP)\n",
    "plt.subplot(2,2,4)\n",
    "sns.distplot(Data2.WT)"
   ]
  },
  {
   "cell_type": "markdown",
   "id": "dc29def0",
   "metadata": {},
   "source": [
    "#### Q11)  Suppose we want to estimate the average weight of an adult male in    Mexico. We draw a random sample of 2,000 men from a population of 3,000,000 men and weigh them. We find that the average person in our sample weighs 200 pounds, and the standard deviation of the sample is 30 pounds. Calculate 94%,98%,96% confidence interval?\n"
   ]
  },
  {
   "cell_type": "code",
   "execution_count": 15,
   "id": "bdfc1fb4",
   "metadata": {},
   "outputs": [
    {
     "data": {
      "text/plain": [
       "246.6432078379056"
      ]
     },
     "execution_count": 15,
     "metadata": {},
     "output_type": "execute_result"
    }
   ],
   "source": [
    "stats.norm.ppf(0.94, 200, 30)"
   ]
  },
  {
   "cell_type": "code",
   "execution_count": 16,
   "id": "82bbce55",
   "metadata": {},
   "outputs": [
    {
     "data": {
      "text/plain": [
       "-245.6432078379056"
      ]
     },
     "execution_count": 16,
     "metadata": {},
     "output_type": "execute_result"
    }
   ],
   "source": [
    "1-stats.norm.ppf(0.94, 200, 30)"
   ]
  },
  {
   "cell_type": "code",
   "execution_count": 17,
   "id": "2137ead1",
   "metadata": {},
   "outputs": [
    {
     "data": {
      "text/plain": [
       "261.61246731895466"
      ]
     },
     "execution_count": 17,
     "metadata": {},
     "output_type": "execute_result"
    }
   ],
   "source": [
    "stats.norm.ppf(0.98, 200, 30)"
   ]
  },
  {
   "cell_type": "code",
   "execution_count": 18,
   "id": "3061ef08",
   "metadata": {},
   "outputs": [
    {
     "data": {
      "text/plain": [
       "-260.61246731895466"
      ]
     },
     "execution_count": 18,
     "metadata": {},
     "output_type": "execute_result"
    }
   ],
   "source": [
    "1-stats.norm.ppf(0.98, 200, 30)"
   ]
  },
  {
   "cell_type": "code",
   "execution_count": 19,
   "id": "e992d2dc",
   "metadata": {},
   "outputs": [
    {
     "data": {
      "text/plain": [
       "252.52058213756507"
      ]
     },
     "execution_count": 19,
     "metadata": {},
     "output_type": "execute_result"
    }
   ],
   "source": [
    "stats.norm.ppf(0.96, 200, 30)"
   ]
  },
  {
   "cell_type": "code",
   "execution_count": 20,
   "id": "b817785c",
   "metadata": {},
   "outputs": [
    {
     "data": {
      "text/plain": [
       "-251.52058213756507"
      ]
     },
     "execution_count": 20,
     "metadata": {},
     "output_type": "execute_result"
    }
   ],
   "source": [
    "1-stats.norm.ppf(0.96, 200, 30)"
   ]
  },
  {
   "cell_type": "markdown",
   "id": "0cf92685",
   "metadata": {},
   "source": [
    "#### Q12) Below are the scores obtained by a student in tests \n",
    "34,36,36,38,38,39,39,40,40,41,41,41,41,42,42,45,49,56\n",
    "\n",
    "Find mean, median, variance, standard deviation.\n",
    " \n",
    " "
   ]
  },
  {
   "cell_type": "code",
   "execution_count": 21,
   "id": "1aefe20d",
   "metadata": {},
   "outputs": [],
   "source": [
    "x =[34, 36, 36, 38, 38,39 ,39 ,40 ,40 ,41 ,41 ,41 ,41 ,42 ,42 ,45 ,49 ,56]"
   ]
  },
  {
   "cell_type": "code",
   "execution_count": 22,
   "id": "ed636cf2",
   "metadata": {},
   "outputs": [
    {
     "name": "stdout",
     "output_type": "stream",
     "text": [
      "mean: 41.0 median: 40.5 variance: 24.11111111111111 standard deviation: 4.910306620885412\n"
     ]
    }
   ],
   "source": [
    "print(\"mean:\",np.mean(x),\"median:\",np.median(x),\"variance:\",np.std(x) * np.std(x),\"standard deviation:\", np.std(x))"
   ]
  },
  {
   "cell_type": "markdown",
   "id": "c7eeeac6",
   "metadata": {},
   "source": [
    "#### Q 20) Calculate probability from the given dataset for the below cases\n",
    "Calculate the probability of MPG  of Cars for the below cases.\n",
    "       MPG <- Cars$MPG\n",
    "a.\tP(MPG>38)\n",
    "b.\tP(MPG<40)\n",
    "c.\tP (20<MPG<50)\n"
   ]
  },
  {
   "cell_type": "code",
   "execution_count": 44,
   "id": "c3ce908f",
   "metadata": {},
   "outputs": [],
   "source": [
    "cars = pd.read_csv(\"PATH/Cars.csv\")"
   ]
  },
  {
   "cell_type": "code",
   "execution_count": 45,
   "id": "0332300d",
   "metadata": {},
   "outputs": [],
   "source": [
    "MPG = cars.MPG\n",
    "n = MPG.size\n",
    "p1 = 0\n",
    "p2 = 0\n",
    "p3 = 0"
   ]
  },
  {
   "cell_type": "code",
   "execution_count": 46,
   "id": "08d1eeab",
   "metadata": {},
   "outputs": [
    {
     "name": "stdout",
     "output_type": "stream",
     "text": [
      "P(MPG>38)= 0.4074074074074074   P(MPG<40)= 0.7530864197530864   P(20<MPG<50)= 0.8518518518518519\n"
     ]
    }
   ],
   "source": [
    "for p in MPG:\n",
    "    if p>38 :\n",
    "        p1 = p1 + 1\n",
    "    if p<40 :\n",
    "        p2 = p2 + 1\n",
    "    if p>20 and p<50 :\n",
    "        p3 = p3 + 1\n",
    "print( \"P(MPG>38)=\", p1/n, \"  P(MPG<40)=\", p2/n, \"  P(20<MPG<50)=\", p3/n)\n"
   ]
  },
  {
   "cell_type": "markdown",
   "id": "a0d5e7a2",
   "metadata": {},
   "source": [
    "#### Q 21) Check whether the data follows normal distribution\n",
    "a)\tCheck whether the MPG of Cars follows Normal Distribution \n",
    "        Dataset: Cars.csv\n",
    "b)\tCheck Whether the Adipose Tissue (AT) and Waist Circumference(Waist)  from wc-at data set  follows Normal Distribution \n",
    "       Dataset: wc-at.csv\n"
   ]
  },
  {
   "cell_type": "code",
   "execution_count": 27,
   "id": "4da998e8",
   "metadata": {},
   "outputs": [
    {
     "data": {
      "text/html": [
       "<div>\n",
       "<style scoped>\n",
       "    .dataframe tbody tr th:only-of-type {\n",
       "        vertical-align: middle;\n",
       "    }\n",
       "\n",
       "    .dataframe tbody tr th {\n",
       "        vertical-align: top;\n",
       "    }\n",
       "\n",
       "    .dataframe thead th {\n",
       "        text-align: right;\n",
       "    }\n",
       "</style>\n",
       "<table border=\"1\" class=\"dataframe\">\n",
       "  <thead>\n",
       "    <tr style=\"text-align: right;\">\n",
       "      <th></th>\n",
       "      <th>MPG</th>\n",
       "    </tr>\n",
       "  </thead>\n",
       "  <tbody>\n",
       "    <tr>\n",
       "      <th>mean</th>\n",
       "      <td>34.422076</td>\n",
       "    </tr>\n",
       "    <tr>\n",
       "      <th>median</th>\n",
       "      <td>35.152727</td>\n",
       "    </tr>\n",
       "  </tbody>\n",
       "</table>\n",
       "</div>"
      ],
      "text/plain": [
       "              MPG\n",
       "mean    34.422076\n",
       "median  35.152727"
      ]
     },
     "execution_count": 27,
     "metadata": {},
     "output_type": "execute_result"
    }
   ],
   "source": [
    "cars[[\"MPG\"]].agg([\"mean\",\"median\"])"
   ]
  },
  {
   "cell_type": "code",
   "execution_count": 24,
   "id": "36d22798",
   "metadata": {},
   "outputs": [
    {
     "data": {
      "text/plain": [
       "<AxesSubplot:xlabel='MPG', ylabel='Density'>"
      ]
     },
     "execution_count": 24,
     "metadata": {},
     "output_type": "execute_result"
    },
    {
     "data": {
      "image/png": "[encoded data removed]",
      "text/plain": [
       "<Figure size 432x288 with 1 Axes>"
      ]
     },
     "metadata": {
      "needs_background": "light"
     },
     "output_type": "display_data"
    }
   ],
   "source": [
    "sns.distplot(cars.MPG)"
   ]
  },
  {
   "cell_type": "code",
   "execution_count": 28,
   "id": "49ec027b",
   "metadata": {},
   "outputs": [],
   "source": [
    "wc = pd.read_csv(\"PATH/wc-at.csv\")"
   ]
  },
  {
   "cell_type": "code",
   "execution_count": 32,
   "id": "32f2796d",
   "metadata": {},
   "outputs": [
    {
     "data": {
      "text/html": [
       "<div>\n",
       "<style scoped>\n",
       "    .dataframe tbody tr th:only-of-type {\n",
       "        vertical-align: middle;\n",
       "    }\n",
       "\n",
       "    .dataframe tbody tr th {\n",
       "        vertical-align: top;\n",
       "    }\n",
       "\n",
       "    .dataframe thead th {\n",
       "        text-align: right;\n",
       "    }\n",
       "</style>\n",
       "<table border=\"1\" class=\"dataframe\">\n",
       "  <thead>\n",
       "    <tr style=\"text-align: right;\">\n",
       "      <th></th>\n",
       "      <th>Waist</th>\n",
       "      <th>AT</th>\n",
       "    </tr>\n",
       "  </thead>\n",
       "  <tbody>\n",
       "    <tr>\n",
       "      <th>mean</th>\n",
       "      <td>91.901835</td>\n",
       "      <td>101.894037</td>\n",
       "    </tr>\n",
       "    <tr>\n",
       "      <th>median</th>\n",
       "      <td>90.800000</td>\n",
       "      <td>96.540000</td>\n",
       "    </tr>\n",
       "  </tbody>\n",
       "</table>\n",
       "</div>"
      ],
      "text/plain": [
       "            Waist          AT\n",
       "mean    91.901835  101.894037\n",
       "median  90.800000   96.540000"
      ]
     },
     "execution_count": 32,
     "metadata": {},
     "output_type": "execute_result"
    }
   ],
   "source": [
    "wc[[\"Waist\",\"AT\"]].agg([\"mean\",\"median\"])"
   ]
  },
  {
   "cell_type": "code",
   "execution_count": 33,
   "id": "2405d559",
   "metadata": {},
   "outputs": [
    {
     "data": {
      "text/plain": [
       "<AxesSubplot:xlabel='AT', ylabel='Density'>"
      ]
     },
     "execution_count": 33,
     "metadata": {},
     "output_type": "execute_result"
    },
    {
     "data": {
      "image/png": "[encoded data removed]",
      "text/plain": [
       "<Figure size 432x288 with 2 Axes>"
      ]
     },
     "metadata": {
      "needs_background": "light"
     },
     "output_type": "display_data"
    }
   ],
   "source": [
    "plt.subplot(1,2,1)\n",
    "sns.distplot(wc.Waist)\n",
    "plt.subplot(1,2,2)\n",
    "sns.distplot(wc.AT)"
   ]
  },
  {
   "cell_type": "markdown",
   "id": "6dc729d1",
   "metadata": {},
   "source": [
    "#### Q 22) Calculate the Z scores of  90% confidence interval,94% confidence interval, 60% confidence interval "
   ]
  },
  {
   "cell_type": "code",
   "execution_count": 34,
   "id": "41d1315a",
   "metadata": {},
   "outputs": [
    {
     "data": {
      "text/plain": [
       "1.2815515655446004"
      ]
     },
     "execution_count": 34,
     "metadata": {},
     "output_type": "execute_result"
    }
   ],
   "source": [
    "stats.norm.ppf(0.90)"
   ]
  },
  {
   "cell_type": "code",
   "execution_count": 35,
   "id": "669d31ac",
   "metadata": {},
   "outputs": [
    {
     "data": {
      "text/plain": [
       "1.5547735945968535"
      ]
     },
     "execution_count": 35,
     "metadata": {},
     "output_type": "execute_result"
    }
   ],
   "source": [
    "stats.norm.ppf(0.94)"
   ]
  },
  {
   "cell_type": "code",
   "execution_count": 36,
   "id": "bf231d47",
   "metadata": {},
   "outputs": [
    {
     "data": {
      "text/plain": [
       "0.2533471031357997"
      ]
     },
     "execution_count": 36,
     "metadata": {},
     "output_type": "execute_result"
    }
   ],
   "source": [
    "stats.norm.ppf(0.60)"
   ]
  },
  {
   "cell_type": "markdown",
   "id": "12785f6b",
   "metadata": {},
   "source": [
    "#### Q 23) Calculate the t scores of 95% confidence interval, 96% confidence interval, 99% confidence interval for sample size of 25"
   ]
  },
  {
   "cell_type": "code",
   "execution_count": 37,
   "id": "ff0c390a",
   "metadata": {},
   "outputs": [
    {
     "data": {
      "text/plain": [
       "1.7081407612518986"
      ]
     },
     "execution_count": 37,
     "metadata": {},
     "output_type": "execute_result"
    }
   ],
   "source": [
    "stats.t.ppf(0.95,df=25)"
   ]
  },
  {
   "cell_type": "code",
   "execution_count": 38,
   "id": "ffeea3dc",
   "metadata": {},
   "outputs": [
    {
     "data": {
      "text/plain": [
       "1.8248284689556018"
      ]
     },
     "execution_count": 38,
     "metadata": {},
     "output_type": "execute_result"
    }
   ],
   "source": [
    "stats.t.ppf(0.96,df=25)"
   ]
  },
  {
   "cell_type": "code",
   "execution_count": 39,
   "id": "ad27324f",
   "metadata": {},
   "outputs": [
    {
     "data": {
      "text/plain": [
       "2.4851071754106413"
      ]
     },
     "execution_count": 39,
     "metadata": {},
     "output_type": "execute_result"
    }
   ],
   "source": [
    "stats.t.ppf(0.99,df=25)"
   ]
  },
  {
   "cell_type": "markdown",
   "id": "1677805f",
   "metadata": {},
   "source": [
    "#### Q 24)   A Government  company claims that an average light bulb lasts 270 days. A researcher randomly selects 18 bulbs for testing. The sampled bulbs last an average of 260 days, with a standard deviation of 90 days. If the CEO's claim were true, what is the probability that 18 randomly selected bulbs would have an average life of no more than 260 days"
   ]
  },
  {
   "cell_type": "code",
   "execution_count": 40,
   "id": "f1b46c5f",
   "metadata": {},
   "outputs": [
    {
     "data": {
      "text/plain": [
       "0.3215091831954154"
      ]
     },
     "execution_count": 40,
     "metadata": {},
     "output_type": "execute_result"
    }
   ],
   "source": [
    "stats.t.cdf(-0.4714, 18) #t=(x ̅-μ)/(s^2∕√n)"
   ]
  },
  {
   "cell_type": "code",
   "execution_count": null,
   "id": "4243a4f4",
   "metadata": {},
   "outputs": [],
   "source": []
  }
 ],
 "metadata": {
  "kernelspec": {
   "display_name": "Python 3 (ipykernel)",
   "language": "python",
   "name": "python3"
  },
  "language_info": {
   "codemirror_mode": {
    "name": "ipython",
    "version": 3
   },
   "file_extension": ".py",
   "mimetype": "text/x-python",
   "name": "python",
   "nbconvert_exporter": "python",
   "pygments_lexer": "ipython3",
   "version": "3.9.7"
  }
 },
 "nbformat": 4,
 "nbformat_minor": 5
}
